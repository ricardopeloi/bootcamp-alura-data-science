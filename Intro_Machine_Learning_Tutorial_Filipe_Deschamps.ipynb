{
  "nbformat": 4,
  "nbformat_minor": 0,
  "metadata": {
    "colab": {
      "name": "Intro Machine Learning - Tutorial Filipe Deschamps",
      "provenance": [],
      "collapsed_sections": [
        "aFqwafGaPrTr"
      ],
      "toc_visible": true,
      "authorship_tag": "ABX9TyPKyvq/1tiItTBU4oFJbGde",
      "include_colab_link": true
    },
    "kernelspec": {
      "name": "python3",
      "display_name": "Python 3"
    }
  },
  "cells": [
    {
      "cell_type": "markdown",
      "metadata": {
        "id": "view-in-github",
        "colab_type": "text"
      },
      "source": [
        "<a href=\"https://colab.research.google.com/github/ricardopeloi/bootcamp-alura-data-science/blob/main/Intro_Machine_Learning_Tutorial_Filipe_Deschamps.ipynb\" target=\"_parent\"><img src=\"https://colab.research.google.com/assets/colab-badge.svg\" alt=\"Open In Colab\"/></a>"
      ]
    },
    {
      "cell_type": "markdown",
      "metadata": {
        "id": "XxXaRy_LatPi"
      },
      "source": [
        "# Tutorial de Machine Learning básico"
      ]
    },
    {
      "cell_type": "markdown",
      "metadata": {
        "id": "gsf6aWPnJd_x"
      },
      "source": [
        "Link para o tutorial do Guilherme Silveira (Alura) no canal do Filipe Deschamps\r\n",
        "\r\n",
        "https://www.youtube.com/watch?v=JyGGMyR3x5I&list=WL&index=49"
      ]
    },
    {
      "cell_type": "markdown",
      "metadata": {
        "id": "lH9yxSwbO_c7"
      },
      "source": [
        "# Introdução ao conceito: cachorro ou porco?"
      ]
    },
    {
      "cell_type": "markdown",
      "metadata": {
        "id": "h2_GczilJmEO"
      },
      "source": [
        "Primeiro, vamos criar nossa \"base de dados\". Ela será composta principalmente por 2 itens:\r\n",
        "1. \"Features\" ou características de algo\r\n",
        "2. Classificação desse algo\r\n",
        "\r\n",
        "No noss exemplo abaixo, a base de dados será composta por 6 animais, cada um com 3 características distintas, definidas por 0 e 1 (ausente ou presente). As 3 features são:\r\n",
        "1. Pelo longo\r\n",
        "2. Perna curta\r\n",
        "3. Faz auau\r\n",
        "\r\n",
        "Essas características serão colocadas em uma array chamada *treino_X*.\r\n",
        "\r\n",
        "Já os dois tipos de animais serão cachorro ou porco. Sabemos quem é quem pela nossa outra array, aquela que contém a classificação, chamada de *treino_Y*."
      ]
    },
    {
      "cell_type": "code",
      "metadata": {
        "id": "6_qtuI0kPc1e"
      },
      "source": [
        "#pelo longo, perna curta, faz auau\n",
        "porco1 = [0, 1, 0]\n",
        "porco2 = [0, 1, 1]\n",
        "porco3 = [1, 1, 0]\n",
        "\n",
        "cachorro1 = [0, 1, 1]\n",
        "cachorro2 = [1, 0, 1]\n",
        "cachorro3 = [1, 1, 1]\n",
        "\n",
        "treino_X = [porco1, porco2, porco3, cachorro1, cachorro2, cachorro3]\n",
        "treino_Y = [1, 1, 1, 0, 0, 0]"
      ],
      "execution_count": 101,
      "outputs": []
    },
    {
      "cell_type": "markdown",
      "metadata": {
        "id": "EsoZ77cbKnlQ"
      },
      "source": [
        "Repare que as letras X e Y não são ao acaso.\r\n",
        "\r\n",
        "A lógica de modelagem no Machine Learning não difere em nada do conceito de função, que todos aprendemos na escola.\r\n",
        "\r\n",
        "Uma função nada mais é do que um método que recebe determinadas instruções (valores de entrada, denominados *X*) e mapeia esta entrada em uma saída (*Y*), como naquela expressão conhecida:\r\n",
        "\r\n",
        "$$f(x) = y$$"
      ]
    },
    {
      "cell_type": "markdown",
      "metadata": {
        "id": "-XCLfi-YLtJS"
      },
      "source": [
        "Agora que temos nossos dados, que indicam características e classificações para cada animal, vamos generalizar um modelo, para que possamos dar novos animais \"misteriosos\" e o modelo nos dirá se é um porco ou um cachorro.\r\n",
        "\r\n",
        "Repare que até agora, chamamos *X* e *Y* de **treino**, pois é isso mesmo que faremos inicialmente: treinar o modelo com esses dados. Vamos torcer para que apenas 6 exemplos sejam suficientes para gerar um modelo assertivo!"
      ]
    },
    {
      "cell_type": "code",
      "metadata": {
        "colab": {
          "base_uri": "https://localhost:8080/"
        },
        "id": "PMeHzUuWHvhx",
        "outputId": "53f65cf8-fa34-4bc4-d32f-c2d612b30f40"
      },
      "source": [
        "from sklearn.svm import LinearSVC\r\n",
        "\r\n",
        "modelo = LinearSVC()\r\n",
        "modelo.fit(treino_X, treino_Y)"
      ],
      "execution_count": 102,
      "outputs": [
        {
          "output_type": "execute_result",
          "data": {
            "text/plain": [
              "LinearSVC(C=1.0, class_weight=None, dual=True, fit_intercept=True,\n",
              "          intercept_scaling=1, loss='squared_hinge', max_iter=1000,\n",
              "          multi_class='ovr', penalty='l2', random_state=None, tol=0.0001,\n",
              "          verbose=0)"
            ]
          },
          "metadata": {
            "tags": []
          },
          "execution_count": 102
        }
      ]
    },
    {
      "cell_type": "markdown",
      "metadata": {
        "id": "-cccTJwbMTUz"
      },
      "source": [
        "Usamos o modelo de ML chamado [LinearSVC](https://scikit-learn.org/stable/modules/generated/sklearn.svm.LinearSVC.html), que nada é mais que um classificador. Ele servirá para pegar as features de um animal misterioso e classificá-lo em 0 ou 1 (cachorro ou porco).\r\n",
        "\r\n",
        "Já fizemos o treinamento acima, com a chamada de modelo.fit e os nossos dados de *X* e *Y*.\r\n",
        "\r\n",
        "Vamos agora dar um animal misterioso para o modelo treinado e ver o que o nosso modelo nos diz. Essa é a etapa de **testes**!"
      ]
    },
    {
      "cell_type": "code",
      "metadata": {
        "colab": {
          "base_uri": "https://localhost:8080/"
        },
        "id": "Blo37IIkIByF",
        "outputId": "9ebaafc0-0b32-4c13-d898-a43cc651b3c0"
      },
      "source": [
        "animal_misterioso = [1, 1, 1]\r\n",
        "modelo.predict([animal_misterioso])"
      ],
      "execution_count": 103,
      "outputs": [
        {
          "output_type": "execute_result",
          "data": {
            "text/plain": [
              "array([0])"
            ]
          },
          "metadata": {
            "tags": []
          },
          "execution_count": 103
        }
      ]
    },
    {
      "cell_type": "markdown",
      "metadata": {
        "id": "R-QRK197M4YR"
      },
      "source": [
        "Bom, ele previu que é um cachorro!\r\n",
        "\r\n",
        "Muito bom, mas repare que o último indivíduo do nosso *X* de treino já era o mesmo que esse animal misterioso. Não é lá uma previsão muito complexa, pois o modelo poderia ter simplesmente decorado esse exemplo e acertaria de qualquer forma.\r\n",
        "\r\n",
        "Vamos então dar outros exemplos de animais misteriosos. Nesse caso, já sabemos quais são os resultados corretos (as classificações), mas o modelo não. Ele receberá apenas os dados para teste (ou seja, *X de teste*) e nos devolverá um array do mesmo tamanho com a sua previsão (*previsoes*)."
      ]
    },
    {
      "cell_type": "code",
      "metadata": {
        "colab": {
          "base_uri": "https://localhost:8080/"
        },
        "id": "axH4R9GOIjto",
        "outputId": "183dd82d-7556-4218-dfbb-1f2769d01fee"
      },
      "source": [
        "misterio1 = [1,1,1]\r\n",
        "misterio2 = [1,1,0]\r\n",
        "misterio3 = [0,1,1]\r\n",
        "\r\n",
        "teste_X = [misterio1, misterio2, misterio3]\r\n",
        "teste_Y = [0,1,1]\r\n",
        "\r\n",
        "previsoes = modelo.predict(teste_X)\r\n",
        "previsoes"
      ],
      "execution_count": 104,
      "outputs": [
        {
          "output_type": "execute_result",
          "data": {
            "text/plain": [
              "array([0, 1, 0])"
            ]
          },
          "metadata": {
            "tags": []
          },
          "execution_count": 104
        }
      ]
    },
    {
      "cell_type": "markdown",
      "metadata": {
        "id": "1oVSyKo-NiWl"
      },
      "source": [
        "Legal, temos o resultado acima. Como são poucos dados, dá para comparar a previsao com *teste_Y* e perceber que ele acertou os 2 primeiros mas errou o ultimo.\r\n",
        "\r\n",
        "Para facilitar a vida, o pacote que estamos usando, chamado *sklearn*, tem várias métricas e uma das mais simples é a **acurácia**, calculada basicamente como o número de acertos dividido pelo número total de previsões:"
      ]
    },
    {
      "cell_type": "code",
      "metadata": {
        "colab": {
          "base_uri": "https://localhost:8080/"
        },
        "id": "5c7-H5ovI8th",
        "outputId": "589dc4e7-a7f2-4915-c049-583d9135f681"
      },
      "source": [
        "from sklearn.metrics import accuracy_score\r\n",
        "\r\n",
        "accuracy_score(teste_Y, previsoes)"
      ],
      "execution_count": 105,
      "outputs": [
        {
          "output_type": "execute_result",
          "data": {
            "text/plain": [
              "0.6666666666666666"
            ]
          },
          "metadata": {
            "tags": []
          },
          "execution_count": 105
        }
      ]
    },
    {
      "cell_type": "markdown",
      "metadata": {
        "id": "ZzZHLAgXPEkB"
      },
      "source": [
        "# Agora um exemplo um pouco mais real"
      ]
    },
    {
      "cell_type": "markdown",
      "metadata": {
        "id": "4I5h5LHMPQvm"
      },
      "source": [
        "Para começar, queremos uma base de dados mais próxima da realidade, ainda que simples. No [tutorial que eu estava seguindo](https://www.youtube.com/watch?v=JyGGMyR3x5I&list=WL&index=49), não achei a base de dados, então vou ter que gerar a minha própria base.\r\n",
        "\r\n",
        "Vou usar um gerador de números aleatórios, para uma amostra de 500 linhas, [seguindo este tutorial aqui da documentação do Numpy](https://docs.scipy.org/doc/numpy-1.15.0/reference/generated/numpy.random.RandomState.randint.html#numpy.random.RandomState.randint).\r\n"
      ]
    },
    {
      "cell_type": "markdown",
      "metadata": {
        "id": "aFqwafGaPrTr"
      },
      "source": [
        "### Gerando a base de dados para nosso exemplo real"
      ]
    },
    {
      "cell_type": "code",
      "metadata": {
        "colab": {
          "base_uri": "https://localhost:8080/",
          "height": 0
        },
        "id": "DaiE_dZ_PHK0",
        "outputId": "9698bc62-1f5e-4149-c6d0-9cfa012850b0"
      },
      "source": [
        "import numpy as np #Numpy: manipulador matemático e estatístico, para gerar os números aleatórios\r\n",
        "import pandas as pd #Pandas: pacote para gerenciamento de bancos de dados\r\n",
        "\r\n",
        "# nossas 4 colunas, que iniciarão como uma lista, mas serão depois unidas em um DataFrame do Pandas\r\n",
        "home = []\r\n",
        "how_it_works = []\r\n",
        "contact = []\r\n",
        "bought = []\r\n",
        "\r\n",
        "np.random.seed(2163851) # fazemos isso para garantir replicabilidade, ou seja, sempre que chamarmos random, ele gerará os mesmos valores\r\n",
        "\r\n",
        "# geramos 500 valores em cada coluna, com valores 0 ou 1\r\n",
        "tamanho = 500\r\n",
        "home = np.random.randint(2, size = tamanho)\r\n",
        "how_it_works = np.random.randint(2, size = tamanho)\r\n",
        "contact = np.random.randint(2, size = tamanho)\r\n",
        "bought = np.random.randint(2, size = tamanho)\r\n",
        "\r\n",
        "# usamos o Pandas para unir as 4 colunas e dar nomes a elas\r\n",
        "dados = pd.DataFrame({\"home\": home, \"how_it_works\": how_it_works, \"contact\": contact, \"bought\": bought})\r\n",
        "\r\n",
        "# vamos ver como ficou\r\n",
        "dados.sample(5)"
      ],
      "execution_count": 106,
      "outputs": [
        {
          "output_type": "execute_result",
          "data": {
            "text/html": [
              "<div>\n",
              "<style scoped>\n",
              "    .dataframe tbody tr th:only-of-type {\n",
              "        vertical-align: middle;\n",
              "    }\n",
              "\n",
              "    .dataframe tbody tr th {\n",
              "        vertical-align: top;\n",
              "    }\n",
              "\n",
              "    .dataframe thead th {\n",
              "        text-align: right;\n",
              "    }\n",
              "</style>\n",
              "<table border=\"1\" class=\"dataframe\">\n",
              "  <thead>\n",
              "    <tr style=\"text-align: right;\">\n",
              "      <th></th>\n",
              "      <th>home</th>\n",
              "      <th>how_it_works</th>\n",
              "      <th>contact</th>\n",
              "      <th>bought</th>\n",
              "    </tr>\n",
              "  </thead>\n",
              "  <tbody>\n",
              "    <tr>\n",
              "      <th>37</th>\n",
              "      <td>0</td>\n",
              "      <td>1</td>\n",
              "      <td>0</td>\n",
              "      <td>1</td>\n",
              "    </tr>\n",
              "    <tr>\n",
              "      <th>96</th>\n",
              "      <td>0</td>\n",
              "      <td>1</td>\n",
              "      <td>1</td>\n",
              "      <td>0</td>\n",
              "    </tr>\n",
              "    <tr>\n",
              "      <th>404</th>\n",
              "      <td>1</td>\n",
              "      <td>0</td>\n",
              "      <td>0</td>\n",
              "      <td>0</td>\n",
              "    </tr>\n",
              "    <tr>\n",
              "      <th>204</th>\n",
              "      <td>0</td>\n",
              "      <td>1</td>\n",
              "      <td>1</td>\n",
              "      <td>1</td>\n",
              "    </tr>\n",
              "    <tr>\n",
              "      <th>310</th>\n",
              "      <td>1</td>\n",
              "      <td>0</td>\n",
              "      <td>0</td>\n",
              "      <td>1</td>\n",
              "    </tr>\n",
              "  </tbody>\n",
              "</table>\n",
              "</div>"
            ],
            "text/plain": [
              "     home  how_it_works  contact  bought\n",
              "37      0             1        0       1\n",
              "96      0             1        1       0\n",
              "404     1             0        0       0\n",
              "204     0             1        1       1\n",
              "310     1             0        0       1"
            ]
          },
          "metadata": {
            "tags": []
          },
          "execution_count": 106
        }
      ]
    },
    {
      "cell_type": "markdown",
      "metadata": {
        "id": "B4rwIp7cSnfy"
      },
      "source": [
        "## Treinando e prevendo com o novo modelo"
      ]
    },
    {
      "cell_type": "markdown",
      "metadata": {
        "id": "PR-sqJ98StUl"
      },
      "source": [
        "De maneira semelhante ao que fizemos antes, vamos separar nossos dados em 4 partes:\r\n",
        "1. Dados de treino sem classificação (Treino X);\r\n",
        "2. Dados de treino com as classificações (Treino Y);\r\n",
        "3. Dados de teste sem classificação, onde o modelo fará as previsões (Teste X);\r\n",
        "4. Dados de teste classificados, assim podemos calcular a qualidade do modelo com alguma métrica (Teste Y).\r\n",
        "\r\n",
        "Em conjunto a isso tudo, haverá um quinto conjunto de dados, gerado pelo modelo ao fazer as previsões.\r\n",
        "\r\n",
        "O fluxo então será:\r\n",
        "- Separar os dados nesses 4 tipos ([usando uma ferramenta do sklearn](https://scikit-learn.org/stable/modules/generated/sklearn.model_selection.train_test_split.html));\r\n",
        "- Treinar o modelo com Treino X e Treino Y;\r\n",
        "- Fazer as previsões alimentando o modelo com Teste X, e recebendo de volta as previsões;\r\n",
        "- Medir o sucesso disso com as previsões e Teste Y.\r\n"
      ]
    },
    {
      "cell_type": "markdown",
      "metadata": {
        "id": "ZbLlKwPuUPgs"
      },
      "source": [
        "Começamos separando os dados nas 4 partes, como abaixo. Veja que a função quebra o número de linhas em uma proporção de 75/25, mas isso pode ser mudado como um dos parâmetros da função."
      ]
    },
    {
      "cell_type": "code",
      "metadata": {
        "id": "eaLlWFj9SJve"
      },
      "source": [
        "from sklearn.model_selection import train_test_split\r\n",
        "#https://scikit-learn.org/stable/modules/generated/sklearn.model_selection.train_test_split.html\r\n",
        "\r\n",
        "segundo_exemplo_X = dados[[\"home\", \"how_it_works\", \"contact\"]]\r\n",
        "segundo_exemplo_Y = dados[[\"bought\"]]\r\n",
        "\r\n",
        "X_train, X_test, y_train, y_test = train_test_split(segundo_exemplo_X, segundo_exemplo_Y)"
      ],
      "execution_count": 107,
      "outputs": []
    },
    {
      "cell_type": "code",
      "metadata": {
        "colab": {
          "base_uri": "https://localhost:8080/"
        },
        "id": "Z1QgGdJVUKYi",
        "outputId": "d6a38189-3671-458a-97ca-9341ce7e5d7b"
      },
      "source": [
        "len(X_train)"
      ],
      "execution_count": 108,
      "outputs": [
        {
          "output_type": "execute_result",
          "data": {
            "text/plain": [
              "375"
            ]
          },
          "metadata": {
            "tags": []
          },
          "execution_count": 108
        }
      ]
    },
    {
      "cell_type": "code",
      "metadata": {
        "colab": {
          "base_uri": "https://localhost:8080/"
        },
        "id": "6V9OWWUZUNAL",
        "outputId": "b2d77ce6-8d62-45e7-c4d8-b20f6bd66f9c"
      },
      "source": [
        "len(y_test)"
      ],
      "execution_count": 109,
      "outputs": [
        {
          "output_type": "execute_result",
          "data": {
            "text/plain": [
              "125"
            ]
          },
          "metadata": {
            "tags": []
          },
          "execution_count": 109
        }
      ]
    },
    {
      "cell_type": "markdown",
      "metadata": {
        "id": "5bwv9rD8UrZq"
      },
      "source": [
        "Em seguida, vamos instanciar o modelo, treiná-lo e prever os resultados com o modelo.\r\n",
        "\r\n",
        "Vamos também medir o resultado usando novamente o *accuracy_score*."
      ]
    },
    {
      "cell_type": "code",
      "metadata": {
        "colab": {
          "base_uri": "https://localhost:8080/"
        },
        "id": "OlDWc4ofU6fq",
        "outputId": "0e592139-804d-40d1-96c1-b629eb5d389c"
      },
      "source": [
        "from sklearn.svm import LinearSVC\r\n",
        "\r\n",
        "segundo_exemplo_modelo = LinearSVC()\r\n",
        "segundo_exemplo_modelo.fit(X_train, y_train.values.ravel())\r\n",
        "previsoes = segundo_exemplo_modelo.predict(X_test)\r\n",
        "\r\n",
        "from sklearn.metrics import accuracy_score\r\n",
        "accuracy_score(y_test, previsoes) * 100"
      ],
      "execution_count": 110,
      "outputs": [
        {
          "output_type": "execute_result",
          "data": {
            "text/plain": [
              "51.2"
            ]
          },
          "metadata": {
            "tags": []
          },
          "execution_count": 110
        }
      ]
    },
    {
      "cell_type": "markdown",
      "metadata": {
        "id": "yGiTMQFLXD-A"
      },
      "source": [
        "Poxa, resultado é bem ruinzinho, né? Só acertamos 50% das vezes.\r\n",
        "\r\n",
        "Como conhecemos os dados, talvez um alento seja o fato de que foram gerados aleatoriamente entre 0 e 1, célula a célula. Pensando assim, faz bastante sentido que o resultado seja algo com perfil de probabilidade em 50%/50%, certo?"
      ]
    },
    {
      "cell_type": "markdown",
      "metadata": {
        "id": "nASoGIG_apeB"
      },
      "source": [
        ""
      ]
    },
    {
      "cell_type": "markdown",
      "metadata": {
        "id": "sUv5PVRra4Ll"
      },
      "source": [
        "# Agora um exemplo ainda mais realista: quem sobrevive no Titanic?"
      ]
    },
    {
      "cell_type": "markdown",
      "metadata": {
        "id": "0UbtWFNCa7y9"
      },
      "source": [
        "Neste caso aqui, temos uma [base de dados com passageiros do Titanic](https://public.opendatasoft.com/explore/dataset/titanic-passengers/export/), com informações sobre sua sobrevivência ou não no desastre, assim como o tipo de ticket (primeira, segunda ou terceira classe), sexo, idade, porto onde embarcou, se tinha familiares no navio, etc.\r\n",
        "\r\n",
        "Nosso objetivo será o mesmo de cima, classificação dos passageiros, de acordo com as features.\r\n",
        "\r\n",
        "A única diferença é que usaremos um outro modelo de ML, chamado de Árvore de Decisão."
      ]
    },
    {
      "cell_type": "code",
      "metadata": {
        "colab": {
          "base_uri": "https://localhost:8080/",
          "height": 238
        },
        "id": "30aVvzUcbWN6",
        "outputId": "ca03d9a6-2626-41d5-9ac7-bcf71d39730e"
      },
      "source": [
        "# coloquei os dados no meu Github\r\n",
        "dados_Titanic = pd.read_csv(\"https://raw.githubusercontent.com/ricardopeloi/bootcamp-alura-data-science/main/Titanic.csv\", sep = \";\")\r\n",
        "dados_Titanic.head()"
      ],
      "execution_count": 111,
      "outputs": [
        {
          "output_type": "execute_result",
          "data": {
            "text/html": [
              "<div>\n",
              "<style scoped>\n",
              "    .dataframe tbody tr th:only-of-type {\n",
              "        vertical-align: middle;\n",
              "    }\n",
              "\n",
              "    .dataframe tbody tr th {\n",
              "        vertical-align: top;\n",
              "    }\n",
              "\n",
              "    .dataframe thead th {\n",
              "        text-align: right;\n",
              "    }\n",
              "</style>\n",
              "<table border=\"1\" class=\"dataframe\">\n",
              "  <thead>\n",
              "    <tr style=\"text-align: right;\">\n",
              "      <th></th>\n",
              "      <th>PassengerId</th>\n",
              "      <th>Survived</th>\n",
              "      <th>Pclass</th>\n",
              "      <th>Name</th>\n",
              "      <th>Sex</th>\n",
              "      <th>Age</th>\n",
              "      <th>SibSp</th>\n",
              "      <th>Parch</th>\n",
              "      <th>Ticket</th>\n",
              "      <th>Fare</th>\n",
              "      <th>Cabin</th>\n",
              "      <th>Embarked</th>\n",
              "    </tr>\n",
              "  </thead>\n",
              "  <tbody>\n",
              "    <tr>\n",
              "      <th>0</th>\n",
              "      <td>431</td>\n",
              "      <td>Yes</td>\n",
              "      <td>1</td>\n",
              "      <td>Bjornstrom-Steffansson, Mr. Mauritz Hakan</td>\n",
              "      <td>male</td>\n",
              "      <td>28.0</td>\n",
              "      <td>0</td>\n",
              "      <td>0</td>\n",
              "      <td>110564</td>\n",
              "      <td>26.5500</td>\n",
              "      <td>C52</td>\n",
              "      <td>S</td>\n",
              "    </tr>\n",
              "    <tr>\n",
              "      <th>1</th>\n",
              "      <td>664</td>\n",
              "      <td>No</td>\n",
              "      <td>3</td>\n",
              "      <td>Coleff, Mr. Peju</td>\n",
              "      <td>male</td>\n",
              "      <td>36.0</td>\n",
              "      <td>0</td>\n",
              "      <td>0</td>\n",
              "      <td>349210</td>\n",
              "      <td>7.4958</td>\n",
              "      <td>NaN</td>\n",
              "      <td>S</td>\n",
              "    </tr>\n",
              "    <tr>\n",
              "      <th>2</th>\n",
              "      <td>44</td>\n",
              "      <td>Yes</td>\n",
              "      <td>2</td>\n",
              "      <td>Laroche, Miss. Simonne Marie Anne Andree</td>\n",
              "      <td>female</td>\n",
              "      <td>3.0</td>\n",
              "      <td>1</td>\n",
              "      <td>2</td>\n",
              "      <td>SC/Paris 2123</td>\n",
              "      <td>41.5792</td>\n",
              "      <td>NaN</td>\n",
              "      <td>C</td>\n",
              "    </tr>\n",
              "    <tr>\n",
              "      <th>3</th>\n",
              "      <td>347</td>\n",
              "      <td>Yes</td>\n",
              "      <td>2</td>\n",
              "      <td>Smith, Miss. Marion Elsie</td>\n",
              "      <td>female</td>\n",
              "      <td>40.0</td>\n",
              "      <td>0</td>\n",
              "      <td>0</td>\n",
              "      <td>31418</td>\n",
              "      <td>13.0000</td>\n",
              "      <td>NaN</td>\n",
              "      <td>S</td>\n",
              "    </tr>\n",
              "    <tr>\n",
              "      <th>4</th>\n",
              "      <td>891</td>\n",
              "      <td>No</td>\n",
              "      <td>3</td>\n",
              "      <td>Dooley, Mr. Patrick</td>\n",
              "      <td>male</td>\n",
              "      <td>32.0</td>\n",
              "      <td>0</td>\n",
              "      <td>0</td>\n",
              "      <td>370376</td>\n",
              "      <td>7.7500</td>\n",
              "      <td>NaN</td>\n",
              "      <td>Q</td>\n",
              "    </tr>\n",
              "  </tbody>\n",
              "</table>\n",
              "</div>"
            ],
            "text/plain": [
              "   PassengerId Survived  Pclass  ...     Fare Cabin  Embarked\n",
              "0          431      Yes       1  ...  26.5500   C52         S\n",
              "1          664       No       3  ...   7.4958   NaN         S\n",
              "2           44      Yes       2  ...  41.5792   NaN         C\n",
              "3          347      Yes       2  ...  13.0000   NaN         S\n",
              "4          891       No       3  ...   7.7500   NaN         Q\n",
              "\n",
              "[5 rows x 12 columns]"
            ]
          },
          "metadata": {
            "tags": []
          },
          "execution_count": 111
        }
      ]
    },
    {
      "cell_type": "code",
      "metadata": {
        "colab": {
          "base_uri": "https://localhost:8080/",
          "height": 204
        },
        "id": "7HtHBrm7dirq",
        "outputId": "e4f1abf6-6f35-4b48-c48f-8f8de42acff9"
      },
      "source": [
        "# vamos dar uma olhada nas colunas, para manter apenas o que faz sentido:\r\n",
        "dados_Titanic_limpos = dados_Titanic.copy()\r\n",
        "\r\n",
        "# primeiro substituímos Survived e Sex por 0 e 1, para converter as categorias em int\r\n",
        "dados_Titanic_limpos[\"Survived\"] = dados_Titanic[\"Survived\"].replace({\"Yes\": 1, \"No\": 0})\r\n",
        "dados_Titanic_limpos[\"Sex\"] = dados_Titanic[\"Sex\"].replace({\"male\": 1, \"female\": 0})\r\n",
        "\r\n",
        "#Imagino que as seguintes variáveis não tenham influenciado na sobrevivência do passageiro (além de serem categóricas)\r\n",
        "dados_Titanic_limpos = dados_Titanic_limpos.drop([\"PassengerId\", \"Name\", \"Ticket\", \"Cabin\", \"Embarked\"], axis = 1)\r\n",
        "\r\n",
        "# A princípio, já estaria ok, mas ao rodar o modelo nas células abaixo, me parece que Age tem valores vazios (NaN)\r\n",
        "# O modelo de ML não roda se tiver isso, então precisamos tratar esse problema, mas como?\r\n",
        "# Há várias opções: eliminar linhas, colocar valores fictícios, etc\r\n",
        "# No nosso caso, é um pouco estranho definir valores fictícios de idade para alguém.\r\n",
        "# Aliás, pensando naquela máxima \"Mulheres e crianças primeiro\", eu imagino que idade seja crucial para a previsão\r\n",
        "# Assim, decido que simplemente vou eliminar as linhas que tiverem isso\r\n",
        "dados_Titanic_limpos = dados_Titanic_limpos.dropna()\r\n",
        "\r\n",
        "dados_Titanic_limpos.head()"
      ],
      "execution_count": 112,
      "outputs": [
        {
          "output_type": "execute_result",
          "data": {
            "text/html": [
              "<div>\n",
              "<style scoped>\n",
              "    .dataframe tbody tr th:only-of-type {\n",
              "        vertical-align: middle;\n",
              "    }\n",
              "\n",
              "    .dataframe tbody tr th {\n",
              "        vertical-align: top;\n",
              "    }\n",
              "\n",
              "    .dataframe thead th {\n",
              "        text-align: right;\n",
              "    }\n",
              "</style>\n",
              "<table border=\"1\" class=\"dataframe\">\n",
              "  <thead>\n",
              "    <tr style=\"text-align: right;\">\n",
              "      <th></th>\n",
              "      <th>Survived</th>\n",
              "      <th>Pclass</th>\n",
              "      <th>Sex</th>\n",
              "      <th>Age</th>\n",
              "      <th>SibSp</th>\n",
              "      <th>Parch</th>\n",
              "      <th>Fare</th>\n",
              "    </tr>\n",
              "  </thead>\n",
              "  <tbody>\n",
              "    <tr>\n",
              "      <th>0</th>\n",
              "      <td>1</td>\n",
              "      <td>1</td>\n",
              "      <td>1</td>\n",
              "      <td>28.0</td>\n",
              "      <td>0</td>\n",
              "      <td>0</td>\n",
              "      <td>26.5500</td>\n",
              "    </tr>\n",
              "    <tr>\n",
              "      <th>1</th>\n",
              "      <td>0</td>\n",
              "      <td>3</td>\n",
              "      <td>1</td>\n",
              "      <td>36.0</td>\n",
              "      <td>0</td>\n",
              "      <td>0</td>\n",
              "      <td>7.4958</td>\n",
              "    </tr>\n",
              "    <tr>\n",
              "      <th>2</th>\n",
              "      <td>1</td>\n",
              "      <td>2</td>\n",
              "      <td>0</td>\n",
              "      <td>3.0</td>\n",
              "      <td>1</td>\n",
              "      <td>2</td>\n",
              "      <td>41.5792</td>\n",
              "    </tr>\n",
              "    <tr>\n",
              "      <th>3</th>\n",
              "      <td>1</td>\n",
              "      <td>2</td>\n",
              "      <td>0</td>\n",
              "      <td>40.0</td>\n",
              "      <td>0</td>\n",
              "      <td>0</td>\n",
              "      <td>13.0000</td>\n",
              "    </tr>\n",
              "    <tr>\n",
              "      <th>4</th>\n",
              "      <td>0</td>\n",
              "      <td>3</td>\n",
              "      <td>1</td>\n",
              "      <td>32.0</td>\n",
              "      <td>0</td>\n",
              "      <td>0</td>\n",
              "      <td>7.7500</td>\n",
              "    </tr>\n",
              "  </tbody>\n",
              "</table>\n",
              "</div>"
            ],
            "text/plain": [
              "   Survived  Pclass  Sex   Age  SibSp  Parch     Fare\n",
              "0         1       1    1  28.0      0      0  26.5500\n",
              "1         0       3    1  36.0      0      0   7.4958\n",
              "2         1       2    0   3.0      1      2  41.5792\n",
              "3         1       2    0  40.0      0      0  13.0000\n",
              "4         0       3    1  32.0      0      0   7.7500"
            ]
          },
          "metadata": {
            "tags": []
          },
          "execution_count": 112
        }
      ]
    },
    {
      "cell_type": "code",
      "metadata": {
        "colab": {
          "base_uri": "https://localhost:8080/"
        },
        "id": "Qzg3PovYfA2N",
        "outputId": "bd3e5168-b396-40d8-802b-d2e72a1ddb56"
      },
      "source": [
        "dados_Titanic_limpos.info() # Vemos que não temos NaN em mais nenhuma coluna"
      ],
      "execution_count": 113,
      "outputs": [
        {
          "output_type": "stream",
          "text": [
            "<class 'pandas.core.frame.DataFrame'>\n",
            "Int64Index: 714 entries, 0 to 890\n",
            "Data columns (total 7 columns):\n",
            " #   Column    Non-Null Count  Dtype  \n",
            "---  ------    --------------  -----  \n",
            " 0   Survived  714 non-null    int64  \n",
            " 1   Pclass    714 non-null    int64  \n",
            " 2   Sex       714 non-null    int64  \n",
            " 3   Age       714 non-null    float64\n",
            " 4   SibSp     714 non-null    int64  \n",
            " 5   Parch     714 non-null    int64  \n",
            " 6   Fare      714 non-null    float64\n",
            "dtypes: float64(2), int64(5)\n",
            "memory usage: 44.6 KB\n"
          ],
          "name": "stdout"
        }
      ]
    },
    {
      "cell_type": "code",
      "metadata": {
        "id": "pDPLSJVbegD7"
      },
      "source": [
        "x_titanic = dados_Titanic_limpos.drop(\"Survived\", axis = 1)\r\n",
        "y_titanic = dados_Titanic_limpos[\"Survived\"]\r\n",
        "\r\n",
        "from sklearn.model_selection import train_test_split\r\n",
        "X_train_titanic, X_test_titanic, y_train_titanic, y_test_titanic = train_test_split(x_titanic, y_titanic)"
      ],
      "execution_count": 114,
      "outputs": []
    },
    {
      "cell_type": "code",
      "metadata": {
        "colab": {
          "base_uri": "https://localhost:8080/"
        },
        "id": "ryQXjwU9dA-o",
        "outputId": "171dd10d-fb67-41bd-a419-5c8400562f39"
      },
      "source": [
        "from sklearn.tree import DecisionTreeClassifier\r\n",
        "\r\n",
        "titanic_modelo = DecisionTreeClassifier()\r\n",
        "titanic_modelo.fit(X_train_titanic, y_train_titanic.values.ravel())\r\n",
        "previsoes_titanic = titanic_modelo.predict(X_test_titanic)\r\n",
        "\r\n",
        "from sklearn.metrics import accuracy_score\r\n",
        "accuracy_score(y_test_titanic, previsoes_titanic) * 100"
      ],
      "execution_count": 115,
      "outputs": [
        {
          "output_type": "execute_result",
          "data": {
            "text/plain": [
              "74.30167597765363"
            ]
          },
          "metadata": {
            "tags": []
          },
          "execution_count": 115
        }
      ]
    },
    {
      "cell_type": "markdown",
      "metadata": {
        "id": "t1sRpVxigA0X"
      },
      "source": [
        "Prontinho! Com base nos 714 passageiros que foram usados como entrada de dados para o modelo, criamos um modelo capaz de prever com cerca de 74% de assertividade se alguém sobrevive ou não no desastre do Titanic!\r\n",
        "\r\n",
        "Esse modelo poderia ser melhorado de diversas formas:\r\n",
        "- Testando diversos modelos para encontrar algum com melhor capacidade de assertividade (como um ensemble, ou conjunto, de árvores de previsão) ou que também possa utilizar dados categóricos de uma melhor maneira (ao invés de apenas remover da base);\r\n",
        "- Melhorando o preparo de dados para evitar extrair linhas ou colunas;\r\n",
        "- Verificando correlação entre as variáveis e eliminando isso caso necessário;\r\n",
        "- Normalizando cada variável, a fim de que não tenha uma influência maior apenas por terem média/intervalo mais largo que as demais;\r\n",
        "- Analisando outras métricas para entender melhor o comportamento do modelo e comparando com outros modelos.\r\n"
      ]
    }
  ]
}